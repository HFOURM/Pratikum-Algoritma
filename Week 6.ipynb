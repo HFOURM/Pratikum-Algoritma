{
  "nbformat": 4,
  "nbformat_minor": 0,
  "metadata": {
    "colab": {
      "provenance": [],
      "authorship_tag": "ABX9TyM0uoBHO0E8ul8TC2dRNRV/",
      "include_colab_link": true
    },
    "kernelspec": {
      "name": "python3",
      "display_name": "Python 3"
    },
    "language_info": {
      "name": "python"
    }
  },
  "cells": [
    {
      "cell_type": "markdown",
      "metadata": {
        "id": "view-in-github",
        "colab_type": "text"
      },
      "source": [
        "<a href=\"https://colab.research.google.com/github/HFOURM/Pratikum-Algoritma/blob/main/Week_6.ipynb\" target=\"_parent\"><img src=\"https://colab.research.google.com/assets/colab-badge.svg\" alt=\"Open In Colab\"/></a>"
      ]
    },
    {
      "cell_type": "markdown",
      "source": [
        "Loops in Python"
      ],
      "metadata": {
        "id": "VolNg7TQQBH1"
      }
    },
    {
      "cell_type": "markdown",
      "source": [
        "Range"
      ],
      "metadata": {
        "id": "lhh2iYGcmfF_"
      }
    },
    {
      "cell_type": "code",
      "source": [
        "range(3)"
      ],
      "metadata": {
        "colab": {
          "base_uri": "https://localhost:8080/"
        },
        "id": "6-pq6heEmfRl",
        "outputId": "af3a7118-3762-4f6d-b2cc-1e4d32845ab0"
      },
      "execution_count": null,
      "outputs": [
        {
          "output_type": "execute_result",
          "data": {
            "text/plain": [
              "range(0, 3)"
            ]
          },
          "metadata": {},
          "execution_count": 2
        }
      ]
    },
    {
      "cell_type": "markdown",
      "source": [
        "Weekly Exercise 1"
      ],
      "metadata": {
        "id": "m98V-mk5SnAI"
      }
    },
    {
      "cell_type": "code",
      "source": [
        "row = int(input(\"Masukkan Jumlah Baris : \"))\n",
        "\n",
        "for i in range(1, row+1):\n",
        "  for j in range(row - i):\n",
        "    print(\"\", end=\" \")\n",
        "  for j in range(0, i):\n",
        "    print(\"*\", end=\" \")\n",
        "  print()"
      ],
      "metadata": {
        "id": "1sdxKV9AQBMo",
        "colab": {
          "base_uri": "https://localhost:8080/"
        },
        "outputId": "4996bc69-80fa-4633-a2f1-9f2ca0a0d216"
      },
      "execution_count": null,
      "outputs": [
        {
          "output_type": "stream",
          "name": "stdout",
          "text": [
            "Masukkan Jumlah Baris : 5\n",
            "    * \n",
            "   * * \n",
            "  * * * \n",
            " * * * * \n",
            "* * * * * \n"
          ]
        }
      ]
    },
    {
      "cell_type": "markdown",
      "source": [
        "Weekly Exercise 2"
      ],
      "metadata": {
        "id": "RSJY1j6lSq4J"
      }
    },
    {
      "cell_type": "code",
      "source": [
        "row = int(input(\"Masukkan Jumlah Baris : \"))\n",
        "\n",
        "for i in range(1, row+1):\n",
        "  for j in range(0, row -i+1):\n",
        "    print(\"\", end=\" \")\n",
        "\n",
        "    c = 1\n",
        "  for j in range(1, i+1):\n",
        "    print(\"\", c ,end=\"\")\n",
        "    c = c * (i - j) // j\n",
        "  print()"
      ],
      "metadata": {
        "colab": {
          "base_uri": "https://localhost:8080/"
        },
        "id": "WuYFxxWI5z2U",
        "outputId": "e29c1534-6447-420a-eb44-52c541448ce6"
      },
      "execution_count": 17,
      "outputs": [
        {
          "output_type": "stream",
          "name": "stdout",
          "text": [
            "Masukkan Jumlah Baris : 5\n",
            "      1\n",
            "     1 1\n",
            "    1 2 1\n",
            "   1 3 3 1\n",
            "  1 4 6 4 1\n"
          ]
        }
      ]
    },
    {
      "cell_type": "markdown",
      "source": [
        "Weekly Exercise 3"
      ],
      "metadata": {
        "id": "X8nuVM3v4qVv"
      }
    },
    {
      "cell_type": "code",
      "source": [
        "def pascal_rows(num):\n",
        "    rows = [1]\n",
        "    i = 1\n",
        "    while i < num:\n",
        "        next_value = rows[i - 1] * (num - i) // i\n",
        "        rows.append(next_value)\n",
        "        i += 1\n",
        "    return rows\n",
        "\n",
        "def sum_pascal_rows(num):\n",
        "    rows = pascal_rows(num)\n",
        "    total = 0\n",
        "    for value in rows:\n",
        "        total += value\n",
        "    return total\n",
        "\n",
        "num = int(input(\"Masukkan Angka: \"))\n",
        "\n",
        "jumlah = sum_pascal_rows(num)\n",
        "print(jumlah)\n"
      ],
      "metadata": {
        "colab": {
          "base_uri": "https://localhost:8080/"
        },
        "id": "nRCc9xS3FAg8",
        "outputId": "5a4d5632-ce32-4cc7-f46c-18934d479856"
      },
      "execution_count": 16,
      "outputs": [
        {
          "output_type": "stream",
          "name": "stdout",
          "text": [
            "Masukkan Angka: 3\n",
            "4\n"
          ]
        }
      ]
    }
  ]
}
