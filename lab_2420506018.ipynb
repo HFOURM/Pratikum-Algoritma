{
  "nbformat": 4,
  "nbformat_minor": 0,
  "metadata": {
    "colab": {
      "provenance": [],
      "authorship_tag": "ABX9TyPrpkulPn2lFme4Dus2SO1U",
      "include_colab_link": true
    },
    "kernelspec": {
      "name": "python3",
      "display_name": "Python 3"
    },
    "language_info": {
      "name": "python"
    }
  },
  "cells": [
    {
      "cell_type": "markdown",
      "metadata": {
        "id": "view-in-github",
        "colab_type": "text"
      },
      "source": [
        "<a href=\"https://colab.research.google.com/github/HFOURM/Pratikum-Algoritma/blob/main/lab_2420506018.ipynb\" target=\"_parent\"><img src=\"https://colab.research.google.com/assets/colab-badge.svg\" alt=\"Open In Colab\"/></a>"
      ]
    },
    {
      "cell_type": "markdown",
      "source": [
        "\n"
      ],
      "metadata": {
        "id": "GsXgIMaOxpPi"
      }
    },
    {
      "cell_type": "code",
      "source": [
        "row = int(input(\"Masukkan Jumlah Baris (Angka) : \"))# Kode untuk input  jumlah baris atau row\n",
        "\n",
        "for i in range(1, row+1):\n",
        "  for j in range(1,  i+1):\n",
        "    print( i * j, end=\" \")\n",
        "  print(\" \")"
      ],
      "metadata": {
        "colab": {
          "base_uri": "https://localhost:8080/"
        },
        "id": "6b9cLTqi2dhh",
        "outputId": "ab8abb58-700f-4d44-d53e-e912f7e2519d"
      },
      "execution_count": 5,
      "outputs": [
        {
          "output_type": "stream",
          "name": "stdout",
          "text": [
            "Masukkan Jumlah Baris (Angka) : 10\n",
            "1  \n",
            "2 4  \n",
            "3 6 9  \n",
            "4 8 12 16  \n",
            "5 10 15 20 25  \n",
            "6 12 18 24 30 36  \n",
            "7 14 21 28 35 42 49  \n",
            "8 16 24 32 40 48 56 64  \n",
            "9 18 27 36 45 54 63 72 81  \n",
            "10 20 30 40 50 60 70 80 90 100  \n"
          ]
        }
      ]
    }
  ]
}