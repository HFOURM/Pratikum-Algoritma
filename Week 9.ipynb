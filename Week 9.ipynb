{
  "nbformat": 4,
  "nbformat_minor": 0,
  "metadata": {
    "colab": {
      "provenance": [],
      "authorship_tag": "ABX9TyPSdjz/7Eor//chdHRf51nC",
      "include_colab_link": true
    },
    "kernelspec": {
      "name": "python3",
      "display_name": "Python 3"
    },
    "language_info": {
      "name": "python"
    }
  },
  "cells": [
    {
      "cell_type": "markdown",
      "metadata": {
        "id": "view-in-github",
        "colab_type": "text"
      },
      "source": [
        "<a href=\"https://colab.research.google.com/github/HFOURM/Pratikum-Algoritma/blob/main/Week_9.ipynb\" target=\"_parent\"><img src=\"https://colab.research.google.com/assets/colab-badge.svg\" alt=\"Open In Colab\"/></a>"
      ]
    },
    {
      "cell_type": "markdown",
      "source": [
        "Weekly Exercise 1"
      ],
      "metadata": {
        "id": "IM1C1Lvv15pH"
      }
    },
    {
      "cell_type": "markdown",
      "source": [
        "Perbedaan List, Tuple, Set dan dictionary dalam Python"
      ],
      "metadata": {
        "id": "_sAvkm6l2Jc_"
      }
    },
    {
      "cell_type": "markdown",
      "source": [
        " List adalah kumpulan elemen yang berurutan dan dapat diubah. Tuple adalah kumpulan elemen yang berurutan dan tidak dapat diubah. Set adalah kumpulan elemen unik yang tidak berurutan. Dictionary adalah kumpulan pasangan kunci-nilai yang tidak berurutan."
      ],
      "metadata": {
        "id": "pOg6lsJ78irn"
      }
    },
    {
      "cell_type": "markdown",
      "source": [
        "List\n",
        "\n",
        "1.  Berurutan, mutable, elemen duplikat diperbolehkan.\n",
        "2.  Tipe data terstruktur yang digunakan untuk menyimpan sekumpulan elemen yang bisa diubah (mutable) dan dapat berisi elemen dengan tipe data berbeda.\n",
        "\n"
      ],
      "metadata": {
        "id": "z1_o9AQ3Dswq"
      }
    },
    {
      "cell_type": "markdown",
      "source": [
        "Tuple\n",
        "\n",
        "1.   Berurutan, immutable, elemen duplikat diperbolehkan.\n",
        "2.   Tipe data terstruktur yang mirip dengan list, tetapi bersifat tidak dapat diubah (immutable).\n",
        "\n"
      ],
      "metadata": {
        "id": "5g5CnkXCDuz5"
      }
    },
    {
      "cell_type": "markdown",
      "source": [
        "\n",
        "Set\n",
        "1.   Tidak berurutan, elemen unik, mutable (tetapi tidak bisa diubah per elemen).\n",
        "2.   Tipe data terstruktur yang digunakan untuk menyimpan sekumpulan elemen unik yang tidak berurutan.\n",
        "\n"
      ],
      "metadata": {
        "id": "tICL-DFRDvqh"
      }
    },
    {
      "cell_type": "markdown",
      "source": [
        "\n",
        "Dictionary\n",
        "1.   Tidak berurutan, mutable, berisi pasangan kunci-nilai dengan kunci yang unik\n",
        "2.   Tipe data terstruktur yang digunakan untuk menyimpan pasangan kunci-nilai (key-value pairs).\n",
        "\n"
      ],
      "metadata": {
        "id": "6zb5qk2gD0wq"
      }
    },
    {
      "cell_type": "markdown",
      "source": [
        "Weekly Exercise 2"
      ],
      "metadata": {
        "id": "kbDXsxoS19dY"
      }
    },
    {
      "cell_type": "code",
      "source": [
        "data_mhs = [  # data_mhs adalah variable untuk data mahasiswa\n",
        "    {\n",
        "        \"nama\": \"Hammam Al Rosyid Mudhoffar\",\n",
        "        \"kelas\": \"Rombel 1 Praktikum\",\n",
        "        \"tgl_lahir\": \"06 Mei 2006\",\n",
        "        \"no_hp\": \"08577\",\n",
        "        \"alamat\": \"Mertoyudan, Magelang\",\n",
        "        \"hobi\": [\"1. Belajar\",\"2. Bermain Game\"],\n",
        "    },\n",
        "    {\n",
        "        \"nama\": \"Hakkan Azrul\",\n",
        "        \"kelas\": \"Rombel 2 Praktikum\",\n",
        "        \"tgl_lahir\": \"19 Juni 2006\",\n",
        "        \"no_hp\": \"1111\",\n",
        "        \"alamat\": \"Gunung kidul, Sleman\",\n",
        "        \"hobi\": [\"1. Bermain Game\",\"2. Bersepeda\", \"3. Menggambar\"],\n",
        "    }\n",
        "]\n",
        "\n",
        "for data in data_mhs: # perulangan untuk data di dalam data mahasiswa\n",
        "    print(\"Nama : \", data[\"nama\"])\n",
        "    print(\"Kelas :\", data[\"kelas\"])\n",
        "    print(\"Tanggal :\", data[\"tgl_lahir\"])\n",
        "    print(\"No HP : \", data[\"no_hp\"])\n",
        "    print(\"Alamat :\", data[\"alamat\"])\n",
        "    print(\"Hobi : \")\n",
        "    for hobi in data[\"hobi\"]: # perulangan untuk hobi di dalam data \"hobi\"\n",
        "        print(hobi)\n",
        "    print(\"\\n\")\n"
      ],
      "metadata": {
        "colab": {
          "base_uri": "https://localhost:8080/"
        },
        "id": "cC_2JBe019k_",
        "outputId": "5cf4a784-28f4-4683-bc10-ec1253ca28dc"
      },
      "execution_count": null,
      "outputs": [
        {
          "output_type": "stream",
          "name": "stdout",
          "text": [
            "Nama :  Hammam Al Rosyid Mudhoffar\n",
            "Kelas : Rombel 1 Praktikum\n",
            "Tanggal : 06 Mei 2006\n",
            "No HP :  08577\n",
            "Alamat : Mertoyudan, Magelang\n",
            "Hobi : \n",
            "1. Belajar\n",
            "2. Bermain Game\n",
            "\n",
            "\n",
            "Nama :  Hakkan Azrul\n",
            "Kelas : Rombel 2 Praktikum\n",
            "Tanggal : 19 Juni 2006\n",
            "No HP :  1111\n",
            "Alamat : Gunung kidul, Sleman\n",
            "Hobi : \n",
            "1. Bermain Game\n",
            "2. Bersepeda\n",
            "3. Menggambar\n",
            "\n",
            "\n"
          ]
        }
      ]
    }
  ]
}
