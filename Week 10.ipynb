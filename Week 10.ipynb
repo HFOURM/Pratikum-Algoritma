{
  "nbformat": 4,
  "nbformat_minor": 0,
  "metadata": {
    "colab": {
      "provenance": [],
      "authorship_tag": "ABX9TyOVCc+OkYmNYVEM8QMaWQfH",
      "include_colab_link": true
    },
    "kernelspec": {
      "name": "python3",
      "display_name": "Python 3"
    },
    "language_info": {
      "name": "python"
    }
  },
  "cells": [
    {
      "cell_type": "markdown",
      "metadata": {
        "id": "view-in-github",
        "colab_type": "text"
      },
      "source": [
        "<a href=\"https://colab.research.google.com/github/HFOURM/Pratikum-Algoritma/blob/main/Week_10.ipynb\" target=\"_parent\"><img src=\"https://colab.research.google.com/assets/colab-badge.svg\" alt=\"Open In Colab\"/></a>"
      ]
    },
    {
      "cell_type": "markdown",
      "source": [
        "Weekly Exercise 1"
      ],
      "metadata": {
        "id": "8QonUl204F3y"
      }
    },
    {
      "cell_type": "code",
      "source": [
        "# Fungsi Faktorial\n",
        "def faktorial(a):\n",
        "  if a == 0:\n",
        "    return 1\n",
        "  else:\n",
        "    return a * faktorial(a-1)\n",
        "\n",
        "# Input untuk nenasukkan bilangan\n",
        "a = int(input(\"Masukkan bilangan: \"))\n",
        "\n",
        "# Output untuk Faktorial\n",
        "print(faktorial(a))"
      ],
      "metadata": {
        "colab": {
          "base_uri": "https://localhost:8080/"
        },
        "id": "YJFtFJmS4kq5",
        "outputId": "7003c9e2-7bd0-4337-d07b-fb49b5204fe3"
      },
      "execution_count": null,
      "outputs": [
        {
          "output_type": "stream",
          "name": "stdout",
          "text": [
            "Masukkan bilangan bulat: 4\n",
            "24\n"
          ]
        }
      ]
    },
    {
      "cell_type": "markdown",
      "source": [
        "Weekly Exercise 2"
      ],
      "metadata": {
        "id": "ocSfb17a4OIw"
      }
    },
    {
      "cell_type": "code",
      "source": [
        "# Fungsi Perhitungan Luas Bangun Data\n",
        "def L_lingkaran(r):\n",
        "  return 3.14 * r * r\n",
        "def L_persegi(s):\n",
        "  return s * s\n",
        "def L_segitiga(a, t):\n",
        "  return 0.5 * a * t\n",
        "\n",
        "# Menampilkan pilihan perhitungan\n",
        "while True:\n",
        "  print(\"\\nPilihan Perhitungan :\")\n",
        "  print(\"1. Luas Lingkaran\")\n",
        "  print(\"2. Luas Persegi\")\n",
        "  print(\"3. Luas Segitiga\")\n",
        "  print(\"4. selesai\")\n",
        "\n",
        "# Input untuk Memilih perhitungan\n",
        "  pilihan = int(input(\"Masukkan pilihan: \"))\n",
        "\n",
        "  if pilihan == 1: # Pilihan 1 adalah perhitungan Luas Lingkaran\n",
        "    r = float(input(\"Masukkan jari-jari: \"))\n",
        "    print(L_lingkaran(r))\n",
        "  elif pilihan == 2: # Pilihan 2 adalah perhitungan Luas Persegi\n",
        "    s = float(input(\"Masukkan sisi: \"))\n",
        "    print(L_persegi(s))\n",
        "  elif pilihan == 3:# Pilihan 3 adalah Perhitungan Luas Segitiga\n",
        "    a = float(input(\"Masukkan alas: \"))\n",
        "    t = float(input(\"Masukkan tinggi: \"))\n",
        "    print(L_segitiga(a, t))\n",
        "  elif pilihan == 4: # Pilihan 4 adalah Keluar dari Program\n",
        "    print(\"selesai\")\n",
        "    break\n",
        "  else: # Selain pilihan 1, 2, 3, dan 4\n",
        "   print(\"Pilihan tidak tersedia\")\n"
      ],
      "metadata": {
        "colab": {
          "base_uri": "https://localhost:8080/"
        },
        "id": "4zWPvjn--tYp",
        "outputId": "b486b4d5-81a0-41bb-d063-2c9ef7bd94e4"
      },
      "execution_count": null,
      "outputs": [
        {
          "output_type": "stream",
          "name": "stdout",
          "text": [
            "\n",
            "Pilihan Perhitungan :\n",
            "1. Luas Lingkaran\n",
            "2. Luas Persegi\n",
            "3. Luas Segitiga\n",
            "4. selesai\n",
            "Masukkan pilihan: 1\n",
            "Masukkan jari-jari: 7\n",
            "153.86\n",
            "\n",
            "Pilihan Perhitungan :\n",
            "1. Luas Lingkaran\n",
            "2. Luas Persegi\n",
            "3. Luas Segitiga\n",
            "4. selesai\n",
            "Masukkan pilihan: 2\n",
            "Masukkan sisi: 5\n",
            "25\n",
            "\n",
            "Pilihan Perhitungan :\n",
            "1. Luas Lingkaran\n",
            "2. Luas Persegi\n",
            "3. Luas Segitiga\n",
            "4. selesai\n",
            "Masukkan pilihan: 3\n",
            "Masukkan alas: 5\n",
            "Masukkan tinggi: 7\n",
            "17.5\n",
            "\n",
            "Pilihan Perhitungan :\n",
            "1. Luas Lingkaran\n",
            "2. Luas Persegi\n",
            "3. Luas Segitiga\n",
            "4. selesai\n",
            "Masukkan pilihan: 4\n",
            "selesai\n"
          ]
        }
      ]
    }
  ]
}
