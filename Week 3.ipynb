{
  "nbformat": 4,
  "nbformat_minor": 0,
  "metadata": {
    "colab": {
      "provenance": [],
      "authorship_tag": "ABX9TyOToMSCm+YXxJXha5YyXFZ7",
      "include_colab_link": true
    },
    "kernelspec": {
      "name": "python3",
      "display_name": "Python 3"
    },
    "language_info": {
      "name": "python"
    }
  },
  "cells": [
    {
      "cell_type": "markdown",
      "metadata": {
        "id": "view-in-github",
        "colab_type": "text"
      },
      "source": [
        "<a href=\"https://colab.research.google.com/github/HFOURM/Pratikum-Algoritma/blob/main/Week3.ipynb\" target=\"_parent\"><img src=\"https://colab.research.google.com/assets/colab-badge.svg\" alt=\"Open In Colab\"/></a>"
      ]
    },
    {
      "cell_type": "markdown",
      "source": [
        "Basic Output in Phyton"
      ],
      "metadata": {
        "id": "OpsAxup8huuQ"
      }
    },
    {
      "cell_type": "code",
      "source": [
        "print('Phyton is powerfull')"
      ],
      "metadata": {
        "id": "_wB0ffOLhu4f",
        "colab": {
          "base_uri": "https://localhost:8080/"
        },
        "outputId": "39950fea-d69a-4593-9074-68219d212f3d"
      },
      "execution_count": null,
      "outputs": [
        {
          "output_type": "stream",
          "name": "stdout",
          "text": [
            "Phyton is powerfull\n"
          ]
        }
      ]
    },
    {
      "cell_type": "markdown",
      "source": [
        "Print Concatenated Strings\n"
      ],
      "metadata": {
        "id": "85LbVAOTiYZo"
      }
    },
    {
      "cell_type": "code",
      "source": [
        "print('Teknologi Informasi' + 'Universitas Tidar')"
      ],
      "metadata": {
        "id": "nL3dPVPdiefw",
        "colab": {
          "base_uri": "https://localhost:8080/"
        },
        "outputId": "8e7fdcb2-792a-40e2-ab1c-233b19a885f5"
      },
      "execution_count": null,
      "outputs": [
        {
          "output_type": "stream",
          "name": "stdout",
          "text": [
            "Teknologi InformasiUniversitas Tidar\n"
          ]
        }
      ]
    },
    {
      "cell_type": "markdown",
      "source": [
        "Reading Files Python"
      ],
      "metadata": {
        "id": "J2K3_YlhihXI"
      }
    },
    {
      "cell_type": "markdown",
      "source": [
        "Download Data"
      ],
      "metadata": {
        "id": "ShN1D1_Fte82"
      }
    },
    {
      "cell_type": "code",
      "source": [
        "!pip install wget"
      ],
      "metadata": {
        "colab": {
          "base_uri": "https://localhost:8080/"
        },
        "id": "E4dHkPu_thLt",
        "outputId": "58daedc7-d285-48d8-8c4d-598d39d7b18b"
      },
      "execution_count": null,
      "outputs": [
        {
          "output_type": "stream",
          "name": "stdout",
          "text": [
            "Collecting wget\n",
            "  Downloading wget-3.2.zip (10 kB)\n",
            "  Preparing metadata (setup.py) ... \u001b[?25l\u001b[?25hdone\n",
            "Building wheels for collected packages: wget\n",
            "  Building wheel for wget (setup.py) ... \u001b[?25l\u001b[?25hdone\n",
            "  Created wheel for wget: filename=wget-3.2-py3-none-any.whl size=9656 sha256=7968e259a2590cec9f1c8b6ce7a9ad7afda19a8c6500d9587ac77f007e420537\n",
            "  Stored in directory: /root/.cache/pip/wheels/8b/f1/7f/5c94f0a7a505ca1c81cd1d9208ae2064675d97582078e6c769\n",
            "Successfully built wget\n",
            "Installing collected packages: wget\n",
            "Successfully installed wget-3.2\n"
          ]
        }
      ]
    },
    {
      "cell_type": "code",
      "source": [
        "# Download Example file\n",
        "!mkdir -p /resource/data\n",
        "!wget -O /resource/data/Example1.txt https://s3-api.us-geo.objectstorage.softlayer.net/cf-courses-data/CognitiveClass/PY0101EN/labs/example1.txt"
      ],
      "metadata": {
        "colab": {
          "base_uri": "https://localhost:8080/"
        },
        "id": "atcfgs-2usFa",
        "outputId": "d968246b-3f54-4cc9-fccc-ba54e8960318"
      },
      "execution_count": null,
      "outputs": [
        {
          "output_type": "stream",
          "name": "stdout",
          "text": [
            "--2024-09-06 09:48:33--  https://s3-api.us-geo.objectstorage.softlayer.net/cf-courses-data/CognitiveClass/PY0101EN/labs/example1.txt\n",
            "Resolving s3-api.us-geo.objectstorage.softlayer.net (s3-api.us-geo.objectstorage.softlayer.net)... 67.228.254.196\n",
            "Connecting to s3-api.us-geo.objectstorage.softlayer.net (s3-api.us-geo.objectstorage.softlayer.net)|67.228.254.196|:443... connected.\n",
            "HTTP request sent, awaiting response... 200 OK\n",
            "Length: 45 [text/plain]\n",
            "Saving to: ‘/resource/data/Example1.txt’\n",
            "\n",
            "\r          /resource   0%[                    ]       0  --.-KB/s               \r/resource/data/Exam 100%[===================>]      45  --.-KB/s    in 0s      \n",
            "\n",
            "2024-09-06 09:48:33 (18.0 MB/s) - ‘/resource/data/Example1.txt’ saved [45/45]\n",
            "\n"
          ]
        }
      ]
    },
    {
      "cell_type": "markdown",
      "source": [
        "Reading Text Files"
      ],
      "metadata": {
        "id": "jsWYhf_yio9o"
      }
    },
    {
      "cell_type": "code",
      "source": [
        "#Read the Example.txt\n",
        "\n",
        "example1 = \"/resource/data/Example1.txt\"\n",
        "file1 = open(example1, \"r\")"
      ],
      "metadata": {
        "id": "Oq7QIRjQt2cr"
      },
      "execution_count": null,
      "outputs": []
    },
    {
      "cell_type": "markdown",
      "source": [
        "The name of the file"
      ],
      "metadata": {
        "id": "_EGNg137vpxh"
      }
    },
    {
      "cell_type": "code",
      "source": [
        "# Print the path of file\n",
        "\n",
        "file1.name"
      ],
      "metadata": {
        "colab": {
          "base_uri": "https://localhost:8080/",
          "height": 35
        },
        "id": "6e-6CI73vfNK",
        "outputId": "d08a6df4-0f2f-4334-a2c7-7bebaff5a4bd"
      },
      "execution_count": null,
      "outputs": [
        {
          "output_type": "execute_result",
          "data": {
            "text/plain": [
              "'/resource/data/Example1.txt'"
            ],
            "application/vnd.google.colaboratory.intrinsic+json": {
              "type": "string"
            }
          },
          "metadata": {},
          "execution_count": 13
        }
      ]
    },
    {
      "cell_type": "markdown",
      "source": [
        "The mode the file object is in:"
      ],
      "metadata": {
        "id": "ngGKpFglvvLJ"
      }
    },
    {
      "cell_type": "code",
      "source": [
        "# Print the mode of file, either 'r' or 'w'\n",
        "\n",
        "file1.mode"
      ],
      "metadata": {
        "colab": {
          "base_uri": "https://localhost:8080/",
          "height": 35
        },
        "id": "f9KjyNYrv2oZ",
        "outputId": "87de41aa-7cdb-4017-ae92-a8935091cdaa"
      },
      "execution_count": null,
      "outputs": [
        {
          "output_type": "execute_result",
          "data": {
            "text/plain": [
              "'r'"
            ],
            "application/vnd.google.colaboratory.intrinsic+json": {
              "type": "string"
            }
          },
          "metadata": {},
          "execution_count": 14
        }
      ]
    },
    {
      "cell_type": "markdown",
      "source": [],
      "metadata": {
        "id": "OZdbabWXwFBU"
      }
    },
    {
      "cell_type": "code",
      "source": [
        "# Read the file\n",
        "\n",
        "FileContent = file1.read()\n",
        "FileContent"
      ],
      "metadata": {
        "colab": {
          "base_uri": "https://localhost:8080/",
          "height": 35
        },
        "id": "FOwjanhtwFK8",
        "outputId": "fa090bd8-8846-409c-c8a8-02693ee7ce53"
      },
      "execution_count": null,
      "outputs": [
        {
          "output_type": "execute_result",
          "data": {
            "text/plain": [
              "'This is line 1 \\nThis is line 2\\nThis is line 3'"
            ],
            "application/vnd.google.colaboratory.intrinsic+json": {
              "type": "string"
            }
          },
          "metadata": {},
          "execution_count": 15
        }
      ]
    },
    {
      "cell_type": "markdown",
      "source": [
        "The /n means that there is a new line."
      ],
      "metadata": {
        "id": "xX4iuARNwSTY"
      }
    },
    {
      "cell_type": "markdown",
      "source": [
        "We can print the file:"
      ],
      "metadata": {
        "id": "L_CGXnZqwSY4"
      }
    },
    {
      "cell_type": "code",
      "source": [
        "# Print the file with '\\n' as a new line\n",
        "\n",
        "print(FileContent)"
      ],
      "metadata": {
        "colab": {
          "base_uri": "https://localhost:8080/"
        },
        "id": "hcC1SdnswSep",
        "outputId": "92b4b796-d15c-48fa-df9e-f86780b86e8b"
      },
      "execution_count": null,
      "outputs": [
        {
          "output_type": "stream",
          "name": "stdout",
          "text": [
            "This is line 1 \n",
            "This is line 2\n",
            "This is line 3\n"
          ]
        }
      ]
    },
    {
      "cell_type": "markdown",
      "source": [
        "The file is of type string:"
      ],
      "metadata": {
        "id": "n8cc1y2Jw27m"
      }
    },
    {
      "cell_type": "code",
      "source": [
        "# Type of file content\n",
        "\n",
        "type(FileContent)"
      ],
      "metadata": {
        "colab": {
          "base_uri": "https://localhost:8080/"
        },
        "id": "6jp8ir2sw3AO",
        "outputId": "14245014-173d-4556-f449-995fd7e8f731"
      },
      "execution_count": null,
      "outputs": [
        {
          "output_type": "execute_result",
          "data": {
            "text/plain": [
              "str"
            ]
          },
          "metadata": {},
          "execution_count": 17
        }
      ]
    },
    {
      "cell_type": "markdown",
      "source": [
        "We must close the file object:"
      ],
      "metadata": {
        "id": "1VIkyl8gxIaA"
      }
    },
    {
      "cell_type": "code",
      "source": [
        "# Close file after finish\n",
        "\n",
        "file1.close()"
      ],
      "metadata": {
        "id": "-IADvQ1PxH8f"
      },
      "execution_count": null,
      "outputs": []
    },
    {
      "cell_type": "markdown",
      "source": [
        "A Better Way to Open File"
      ],
      "metadata": {
        "id": "FgmLpN5Kiw00"
      }
    },
    {
      "cell_type": "code",
      "source": [
        "# Open file using with\n",
        "\n",
        "with open(example1, \"r\") as file1:\n",
        "    FileContent = file1.read()\n",
        "    print(FileContent)"
      ],
      "metadata": {
        "colab": {
          "base_uri": "https://localhost:8080/"
        },
        "id": "iT_-yJaaxV8X",
        "outputId": "f7600af8-982c-4af2-920b-a96aeeb0e4e0"
      },
      "execution_count": null,
      "outputs": [
        {
          "output_type": "stream",
          "name": "stdout",
          "text": [
            "This is line 1 \n",
            "This is line 2\n",
            "This is line 3\n"
          ]
        }
      ]
    },
    {
      "cell_type": "markdown",
      "source": [],
      "metadata": {
        "id": "Dlx8jyLgxjMH"
      }
    },
    {
      "cell_type": "markdown",
      "source": [
        "Writing Files"
      ],
      "metadata": {
        "id": "P90BGCzui5tv"
      }
    },
    {
      "cell_type": "code",
      "source": [
        "!mkdir -p /resource/data"
      ],
      "metadata": {
        "id": "53vXgR8_xj3_"
      },
      "execution_count": null,
      "outputs": []
    },
    {
      "cell_type": "code",
      "source": [
        "# write line file\n",
        "\n",
        "with open('/resource/data/Example2.txt', 'w') as writefile:\n",
        "    writefile.write(\"This is line A\")"
      ],
      "metadata": {
        "id": "hlIptSXdxpS_"
      },
      "execution_count": null,
      "outputs": []
    },
    {
      "cell_type": "markdown",
      "source": [
        "We can read the file to see if it worked:"
      ],
      "metadata": {
        "id": "spsnvrPti8jg"
      }
    },
    {
      "cell_type": "code",
      "source": [
        "# Read file\n",
        "\n",
        "with open('/resource/data/Example2.txt', 'r') as testwritefile:\n",
        "    print(testwritefile.read())"
      ],
      "metadata": {
        "colab": {
          "base_uri": "https://localhost:8080/"
        },
        "id": "l9YzY2Hmx4zv",
        "outputId": "d3f93f68-4d24-41ce-b4ae-f2f606375ea2"
      },
      "execution_count": null,
      "outputs": [
        {
          "output_type": "stream",
          "name": "stdout",
          "text": [
            "This is line A\n"
          ]
        }
      ]
    },
    {
      "cell_type": "markdown",
      "source": [
        "We can write multiple lines:"
      ],
      "metadata": {
        "id": "ucUYhahayDk-"
      }
    },
    {
      "cell_type": "code",
      "source": [
        "# Write lines to file\n",
        "\n",
        "with open ('/resource/data/Example2.txt', 'w') as writefile:\n",
        "    writefile.write(\"This is line A\\n\")\n",
        "    writefile.write(\"This is line B\\n\")"
      ],
      "metadata": {
        "id": "iYkWQGQcyDpe"
      },
      "execution_count": null,
      "outputs": []
    },
    {
      "cell_type": "markdown",
      "source": [
        "You can check the file to see if your result are correct"
      ],
      "metadata": {
        "id": "mGAFD-y5yDy-"
      }
    },
    {
      "cell_type": "code",
      "source": [
        "# check wheather write to file\n",
        "\n",
        "with open('/resource/data/Example2.txt', 'r') as testwritefile:\n",
        "    print(testwritefile.read())"
      ],
      "metadata": {
        "id": "Iy3I_y5hygF3"
      },
      "execution_count": null,
      "outputs": []
    },
    {
      "cell_type": "markdown",
      "source": [
        "By setting the mode argument to append a you can append a new line as follows:"
      ],
      "metadata": {
        "id": "pxjRoKvfyulH"
      }
    },
    {
      "cell_type": "code",
      "source": [
        "# Check wheather write to file\n",
        "\n",
        "with open('/resource/data/Example2.txt', 'a') as testwritefile:\n",
        "    testwritefile.write(\"This is line C\\n\")"
      ],
      "metadata": {
        "id": "Fu_9bIyuy9Am"
      },
      "execution_count": null,
      "outputs": []
    },
    {
      "cell_type": "markdown",
      "source": [
        "You can verify the file has changed by running the following cell:"
      ],
      "metadata": {
        "id": "IBd6_38ayumW"
      }
    },
    {
      "cell_type": "code",
      "source": [
        "# Verify if the follow new line is the text file\n",
        "\n",
        "with open('/resource/data/Example2.txt', 'r') as testwritefile:\n",
        "    print(testwritefile.read())"
      ],
      "metadata": {
        "colab": {
          "base_uri": "https://localhost:8080/"
        },
        "id": "DzJA4XpHyD3w",
        "outputId": "70caee66-f3fe-4ae6-ef4f-1235a648bbea"
      },
      "execution_count": null,
      "outputs": [
        {
          "output_type": "stream",
          "name": "stdout",
          "text": [
            "This is line A\n",
            "This is line B\n",
            "This is line C\n",
            "\n"
          ]
        }
      ]
    },
    {
      "cell_type": "markdown",
      "source": [
        "We write a list to a **.txt** file as follows:"
      ],
      "metadata": {
        "id": "wYz4XTKM0N0N"
      }
    },
    {
      "cell_type": "code",
      "source": [
        "# Sample list of text\n",
        "\n",
        "Lines = [\"This is line A\\n\", \"This is line B\\n\", \"This is line C\\n\" ]\n",
        "Lines"
      ],
      "metadata": {
        "colab": {
          "base_uri": "https://localhost:8080/"
        },
        "id": "fPcyCgvq0N-E",
        "outputId": "6fb23f77-3d94-4ab5-f80e-e73750e8896a"
      },
      "execution_count": null,
      "outputs": [
        {
          "output_type": "execute_result",
          "data": {
            "text/plain": [
              "['This is line A\\n', 'This is line B\\n', 'This is line C\\n']"
            ]
          },
          "metadata": {},
          "execution_count": 29
        }
      ]
    },
    {
      "cell_type": "code",
      "source": [
        "# Write the strings in the list to text file\n",
        "\n",
        "with open('Example2.txt', 'w') as writefile:\n",
        "    for line in Lines:\n",
        "        print(line)\n",
        "        writefile.write(line)"
      ],
      "metadata": {
        "colab": {
          "base_uri": "https://localhost:8080/"
        },
        "id": "76r00jEV00_U",
        "outputId": "f50b0372-f2e2-4350-b0c7-9556477fa405"
      },
      "execution_count": null,
      "outputs": [
        {
          "output_type": "stream",
          "name": "stdout",
          "text": [
            "This is line A\n",
            "\n",
            "This is line B\n",
            "\n",
            "This is line C\n",
            "\n"
          ]
        }
      ]
    },
    {
      "cell_type": "markdown",
      "source": [
        "We can verify the file is written by reading it and printing out the values:\n"
      ],
      "metadata": {
        "id": "cW7bdnUU1D8T"
      }
    },
    {
      "cell_type": "code",
      "source": [
        "#Verify if writting to file is successfully executed\n",
        "\n",
        "with open('Example2.txt', 'r') as testwritefile:\n",
        "    print(testwritefile.read())"
      ],
      "metadata": {
        "colab": {
          "base_uri": "https://localhost:8080/"
        },
        "id": "lwGgKooC1EI-",
        "outputId": "9e78d9ba-bee1-4e10-c2bf-5bd58fabc1ec"
      },
      "execution_count": null,
      "outputs": [
        {
          "output_type": "stream",
          "name": "stdout",
          "text": [
            "This is line A\n",
            "This is line B\n",
            "This is line C\n",
            "\n"
          ]
        }
      ]
    },
    {
      "cell_type": "markdown",
      "source": [
        "We can again append to the by changing the second parameater to **a.** This adds the code:\n"
      ],
      "metadata": {
        "id": "kz9Qc5uU1gB8"
      }
    },
    {
      "cell_type": "code",
      "source": [
        "# Append the line to the  file\n",
        "\n",
        "with open('Example2.txt', 'a') as testwritefile:\n",
        "    testwritefile.write(\"This is line D\\n\")"
      ],
      "metadata": {
        "id": "Ut4S8kUR1gHL"
      },
      "execution_count": null,
      "outputs": []
    },
    {
      "cell_type": "markdown",
      "source": [
        "We can see the result of appending the file:"
      ],
      "metadata": {
        "id": "HVD_AKVg2FL7"
      }
    },
    {
      "cell_type": "code",
      "source": [
        "# Verify if the appending is successfully executed\n",
        "\n",
        "with open('Example2.txt', 'r') as testwritefile:\n",
        "    print(testwritefile.read())"
      ],
      "metadata": {
        "colab": {
          "base_uri": "https://localhost:8080/"
        },
        "id": "LguhWfWd2FRc",
        "outputId": "83d75949-92be-4aca-d0c7-4f9a814bc48f"
      },
      "execution_count": null,
      "outputs": [
        {
          "output_type": "stream",
          "name": "stdout",
          "text": [
            "This is line A\n",
            "This is line B\n",
            "This is line C\n",
            "This is line D\n",
            "\n"
          ]
        }
      ]
    },
    {
      "cell_type": "markdown",
      "source": [
        "Copy a File"
      ],
      "metadata": {
        "id": "CF3FkX2Ei8kF"
      }
    },
    {
      "cell_type": "code",
      "source": [
        "# Copy file to another\n",
        "\n",
        "with open( 'Example2.txt', 'r') as readfile:\n",
        "    with open('Example3.txt', 'w') as writefile:\n",
        "        for line in readfile:\n",
        "            writefile.write(line)"
      ],
      "metadata": {
        "id": "eA1iHRYK2e1e"
      },
      "execution_count": null,
      "outputs": []
    },
    {
      "cell_type": "markdown",
      "source": [
        "We can read the file to see if everything works:"
      ],
      "metadata": {
        "id": "VffluUp52o17"
      }
    },
    {
      "cell_type": "code",
      "source": [
        "# Copy file to another\n",
        "\n",
        "with open('Example3.txt', 'r') as testwritefile:\n",
        "    print(testwritefile.read())"
      ],
      "metadata": {
        "colab": {
          "base_uri": "https://localhost:8080/"
        },
        "id": "eOujgK7G2o97",
        "outputId": "c0d86623-3184-46e6-ffaa-ab0768884386"
      },
      "execution_count": null,
      "outputs": [
        {
          "output_type": "stream",
          "name": "stdout",
          "text": [
            "This is line A\n",
            "This is line B\n",
            "This is line C\n",
            "This is line D\n",
            "\n"
          ]
        }
      ]
    },
    {
      "cell_type": "markdown",
      "source": [
        "Weekly Exercise 1"
      ],
      "metadata": {
        "id": "jTvhFbkKjAcn"
      }
    },
    {
      "cell_type": "code",
      "source": [
        "#Input yang diperlukan\n",
        "nama = \"Hammam Al Rosyid Mudhoffar\"\n",
        "prodi = \"S1 Teknologi Informasi\"\n",
        "npm = \"2420506018\"\n",
        "alamat = \"Perum Gedongan Baru Blok A No 2 , Colomadu, KaranganyarPerum\"\n",
        "hobi = \"Bersepeda\"\n",
        "email = \"hammam.mudhoffar@gmail.com\"\n",
        "\n",
        "# NO 1 . Membuat file Biodata.txt\n",
        "with open('Biodata.txt', 'w') as writefile:\n",
        "        writefile.write(\"Nama : \" + nama + \"\\n\")\n",
        "        writefile.write(\"NPM : \" + npm + \"\\n\")\n",
        "        writefile.write(\"Prodi : \" + prodi + \"\\n\")\n",
        "        writefile.write(\"Alamat : \" + alamat + \"\\n\")\n",
        "\n",
        "# NO 2 . Output Nama  Prodi dan email\n",
        "print(\"Nama :\", nama)\n",
        "print(\"Prodi :\", prodi)\n",
        "print(\"Email :\", email)"
      ],
      "metadata": {
        "colab": {
          "base_uri": "https://localhost:8080/"
        },
        "id": "VJjdEdT2EJKY",
        "outputId": "38c62a38-b25d-4b7b-f7d8-ed386e2f12fb"
      },
      "execution_count": 6,
      "outputs": [
        {
          "output_type": "stream",
          "name": "stdout",
          "text": [
            "Nama : Hammam Al Rosyid Mudhoffar\n",
            "Prodi : S1 Teknologi Informasi\n",
            "Email : hammam.mudhoffar@gmail.com\n"
          ]
        }
      ]
    },
    {
      "cell_type": "code",
      "source": [
        "# NO 3 .  Copy file ke yang baru\n",
        "\n",
        "with open( 'Biodata.txt', 'r') as readfile:\n",
        "    with open('BiodataInti.txt', 'w') as writefile:\n",
        "        for line in readfile:\n",
        "            writefile.write(line)"
      ],
      "metadata": {
        "id": "5I9nPszd6opp"
      },
      "execution_count": 5,
      "outputs": []
    },
    {
      "cell_type": "markdown",
      "source": [
        "Weekly Exercise 2\n"
      ],
      "metadata": {
        "id": "orP4YFKGjEPI"
      }
    },
    {
      "cell_type": "code",
      "source": [
        "print(\"Selamat datang di Toko Maju Jaya\")\n",
        "print(\"Senin, 4 September 2023      13.05\")\n",
        "print(\" \")\n",
        "\n",
        "print(\"DAFTAR BELANJA:\")\n",
        "item1 = \"Sabun\"\n",
        "item2 = \"Shampo\"\n",
        "item3 = \"Mie instamt\"\n",
        "item4 = \"Detergen\"\n",
        "harga1 = 10000\n",
        "harga2 = 15000\n",
        "harga3 = 5000\n",
        "harga4 = 17500\n",
        "\n",
        "total =  harga1 + harga2 + harga3 + harga4\n",
        "\n",
        "print(item1, \"= Rp\", str(harga1))\n",
        "print(item2, \"= Rp\", str(harga2))\n",
        "print(item3, \"= Rp\", str(harga3))\n",
        "print(item4, \"= Rp\", str(harga4))\n",
        "\n",
        "print(\" \")\n",
        "print(\"Total =  Rp\", str(total))\n",
        "\n",
        "with open('Kuitansi.txt', 'w') as writefile:\n",
        "    writefile.write(\"Selamat datang di Toko Maju Jaya\\n\")\n",
        "    writefile.write(\"\\n\")\n",
        "    writefile.write(\"Kuitansi - 4 september 2023 \\n\")\n",
        "    writefile.write(\"\\n\")\n",
        "    writefile.write(item1 + \"= Rp\" + str(harga1) + \"\\n\")\n",
        "    writefile.write(item2 + \"= Rp\" + str(harga2) + \"\\n\")\n",
        "    writefile.write(item3 + \"= Rp\" + str(harga3) + \"\\n\")\n",
        "    writefile.write(item4 + \"= Rp\" + str(harga4) + \"\\n\")\n",
        "    writefile.write(\"\\n\")\n",
        "    writefile.write(\"Total Belanja =\" + str(total))"
      ],
      "metadata": {
        "colab": {
          "base_uri": "https://localhost:8080/"
        },
        "id": "C1GHNibXjLGX",
        "outputId": "82122eee-1140-461f-9ded-623bb6917d38"
      },
      "execution_count": 4,
      "outputs": [
        {
          "output_type": "stream",
          "name": "stdout",
          "text": [
            "Selamat datang di Toko Maju Jaya\n",
            "Senin, 4 September 2023      13.05\n",
            " \n",
            "DAFTAR BELANJA:\n",
            "Sabun = Rp 10000\n",
            "Shampo = Rp 15000\n",
            "Mie instamt = Rp 5000\n",
            "Detergen = Rp 17500\n",
            " \n",
            "Total =  Rp 47500\n"
          ]
        }
      ]
    }
  ]
}
