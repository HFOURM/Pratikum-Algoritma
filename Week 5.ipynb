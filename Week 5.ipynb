{
  "nbformat": 4,
  "nbformat_minor": 0,
  "metadata": {
    "colab": {
      "provenance": [],
      "authorship_tag": "ABX9TyMdd31bqXqgv/a3gkibIBY+",
      "include_colab_link": true
    },
    "kernelspec": {
      "name": "python3",
      "display_name": "Python 3"
    },
    "language_info": {
      "name": "python"
    }
  },
  "cells": [
    {
      "cell_type": "markdown",
      "metadata": {
        "id": "view-in-github",
        "colab_type": "text"
      },
      "source": [
        "<a href=\"https://colab.research.google.com/github/HFOURM/Pratikum-Algoritma/blob/main/Week_5ipynb.ipynb\" target=\"_parent\"><img src=\"https://colab.research.google.com/assets/colab-badge.svg\" alt=\"Open In Colab\"/></a>"
      ]
    },
    {
      "cell_type": "markdown",
      "source": [
        "Nested IF in Python"
      ],
      "metadata": {
        "id": "V1v3zzdIl0I6"
      }
    },
    {
      "cell_type": "markdown",
      "source": [
        "Weekly Exercise 1"
      ],
      "metadata": {
        "id": "mHHWhJGGmDxa"
      }
    },
    {
      "cell_type": "code",
      "source": [
        "user =  int(input(\"Masukkan angka(tahun): \"))\n",
        "\n",
        "if (user % 4 == 0):\n",
        "    print(\"Tahun Kabisat\")\n",
        "else:\n",
        "    print(\"Bukan Tahun Kabisat\")"
      ],
      "metadata": {
        "colab": {
          "base_uri": "https://localhost:8080/"
        },
        "id": "NSAEoKdgl0Rp",
        "outputId": "b9c7a3b1-46b2-4e79-bab3-c3334a49f5f0"
      },
      "execution_count": null,
      "outputs": [
        {
          "output_type": "stream",
          "name": "stdout",
          "text": [
            "Masukkan angka(tahun): 2024\n",
            "Tahun Kabisat\n"
          ]
        }
      ]
    },
    {
      "cell_type": "markdown",
      "source": [
        "Weekly Exercise 2"
      ],
      "metadata": {
        "id": "xp6HCYg-l5a5"
      }
    },
    {
      "cell_type": "code",
      "source": [
        "user1 = int(input(\"Masukkan Angka 1: \"))\n",
        "user2 = int(input(\"Masukkan Angka 2: \"))\n",
        "user3 = int(input(\"Masukkan Angka 3: \"))\n",
        "\n",
        "if(user1 > user2) and (user1 > user3):\n",
        "    print(\"Angka terbesar adalah: \", user1)\n",
        "elif(user2 > user1) and (user2 > user3):\n",
        "    print(\"Angka terbesar adalah: \", user2)\n",
        "else:\n",
        "    print(\"Angka terbesar adalah: \", user3)"
      ],
      "metadata": {
        "colab": {
          "base_uri": "https://localhost:8080/"
        },
        "id": "IW7kovNYl8rq",
        "outputId": "fe0bc3fc-4e12-4314-f455-d98e528341e2"
      },
      "execution_count": null,
      "outputs": [
        {
          "output_type": "stream",
          "name": "stdout",
          "text": [
            "Masukkan Angka 1: 4\n",
            "Masukkan Angka 2: 5\n",
            "Masukkan Angka 3: 6\n",
            "Angka terbesar adalah:  6\n"
          ]
        }
      ]
    },
    {
      "cell_type": "markdown",
      "source": [
        "Weekly Exercise 3"
      ],
      "metadata": {
        "id": "UBIZsM1Tl81h"
      }
    },
    {
      "cell_type": "code",
      "source": [
        "member = input(\"Apakah Anda Member? (Ya/Tidak): \")\n",
        "total = int(input(\"Masukkan Total Belanja: \"))\n",
        "\n",
        "#Diskon untuk semua\n",
        "diskon = 0\n",
        "if(total >= 100000) and (total < 200000):\n",
        "    diskon = total * 0.03\n",
        "elif(total >= 200000):\n",
        "    diskon = total * 0.04\n",
        "#Hasil setelah diskon semua\n",
        "setelah_diskon = total - diskon\n",
        "\n",
        "#Diskon untuk member\n",
        "diskon_member = 0\n",
        "if(total >= 100000) and (total < 200000):\n",
        "    diskon_member = setelah_diskon * 0.02\n",
        "elif(total >= 200000):\n",
        "    diskon_member = setelah_diskon * 0.02\n",
        "else:\n",
        "    diskon_member = total * 0.02\n",
        "#Hasil setelah diskon member\n",
        "setelah_diskon_member = setelah_diskon - diskon_member\n",
        "\n",
        "#Program untuk menentukan member\n",
        "if member == \"Ya\":\n",
        "    if(total >= 100000) and (total < 200000):\n",
        "        print(\"Selamat Anda Mendapatkan Diskon 3% + 2%\")\n",
        "        print(\"Total Belanja Anda: \", setelah_diskon_member)\n",
        "    elif(total >= 200000):\n",
        "        print(\"Selamat Anda Mendapatkan Diskon 4% + 2%\")\n",
        "        print(\"Total Belanja Anda: \", setelah_diskon_member)\n",
        "    else:\n",
        "        print(\"Selamat Anda Mendapatkan Diskon 2%\")\n",
        "        print(\"Total Belanja Anda: \", setelah_diskon_member)\n",
        "elif member == \"Tidak\":\n",
        "    if(total >= 100000) and (total < 200000):\n",
        "        print(\"Selamat Anda Mendapatkan Diskon 3%\")\n",
        "        print(\"Total Belanja Anda: \", setelah_diskon)\n",
        "    elif(total >= 200000):\n",
        "        print(\"Selamat Anda Mendapatkan Diskon 4%\")\n",
        "        print(\"Total Belanja Anda: \", setelah_diskon)\n",
        "else:\n",
        "    print(\"Input Salah\")"
      ],
      "metadata": {
        "colab": {
          "base_uri": "https://localhost:8080/"
        },
        "id": "lGLdyuT4mAK5",
        "outputId": "3b4421cd-0c7b-42a4-954f-07078a62845b"
      },
      "execution_count": null,
      "outputs": [
        {
          "output_type": "stream",
          "name": "stdout",
          "text": [
            "Apakah Anda Member? (Ya/Tidak): Tidak\n",
            "Masukkan Total Belanja: 1000000\n",
            "Selamat Anda Mendapatkan Diskon 4%\n",
            "Total Belanja Anda:  960000.0\n"
          ]
        }
      ]
    },
    {
      "cell_type": "markdown",
      "source": [
        "Weekly Exercise 4"
      ],
      "metadata": {
        "id": "zr5OmovemAPZ"
      }
    },
    {
      "cell_type": "code",
      "source": [
        "# Fungsi membuat user baru\n",
        "def membuat_user_baru(username, email, password):\n",
        "    # Pengecekan apakah username tidak kosong\n",
        "    if username != \"\":\n",
        "        # Pengecekan apakah email ada \"@\"\n",
        "        if \"@\" in email:\n",
        "            # Pengecekan apakah password lebih dari 8 karakter\n",
        "            if len(password) > 8:\n",
        "                print(\"User berhasil dibuat!\")\n",
        "                print(f\"Username: {username}\")\n",
        "                print(f\"Email: {email}\")\n",
        "            else:\n",
        "                print(\"Gagal membuat user: Password harus lebih dari 8 karakter.\")\n",
        "        else:\n",
        "            print(\"Gagal membuat user: Email harus ada '@'.\")\n",
        "    else:\n",
        "        print(\"Gagal membuat user: Username tidak boleh kosong.\")\n",
        "\n",
        "# Input Yang di minta\n",
        "username = input(\"Masukkan username: \")\n",
        "email = input(\"Masukkan email: \")\n",
        "password = input(\"Masukkan password: \")\n",
        "\n",
        "membuat_user_baru(username, email, password)\n"
      ],
      "metadata": {
        "id": "luxhcFZTmCrh",
        "colab": {
          "base_uri": "https://localhost:8080/"
        },
        "outputId": "59b62b44-8a82-4b25-c7a1-693ec9e881e2"
      },
      "execution_count": 6,
      "outputs": [
        {
          "output_type": "stream",
          "name": "stdout",
          "text": [
            "Masukkan username: Hammam\n",
            "Masukkan email: hammam.mudhoffar@gmail.com\n",
            "Masukkan password: 123\n",
            "Gagal membuat user: Password harus lebih dari 8 karakter.\n"
          ]
        }
      ]
    }
  ]
}
