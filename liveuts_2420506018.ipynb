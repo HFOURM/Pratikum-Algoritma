{
  "nbformat": 4,
  "nbformat_minor": 0,
  "metadata": {
    "colab": {
      "provenance": [],
      "include_colab_link": true
    },
    "kernelspec": {
      "name": "python3",
      "display_name": "Python 3"
    },
    "language_info": {
      "name": "python"
    }
  },
  "cells": [
    {
      "cell_type": "markdown",
      "metadata": {
        "id": "view-in-github",
        "colab_type": "text"
      },
      "source": [
        "<a href=\"https://colab.research.google.com/github/HFOURM/Pratikum-Algoritma/blob/main/liveuts_2420506018.ipynb\" target=\"_parent\"><img src=\"https://colab.research.google.com/assets/colab-badge.svg\" alt=\"Open In Colab\"/></a>"
      ]
    },
    {
      "cell_type": "code",
      "source": [
        "num = int(input(\"Masukkkan NPM Anda : \")) # Input NPM 2420506018\n",
        "\n",
        "sum_genap = 0 # variable jumlah angka genap\n",
        "sum_ganjil = 0# vairable jumlah angka ganjil\n",
        "\n",
        "while num > 0:\n",
        "    digit = num % 5\n",
        "    if digit % 2 == 0:\n",
        "        sum_genap += digit\n",
        "    else:\n",
        "        sum_ganjil += digit\n",
        "    num //= 10\n",
        "\n",
        "\n",
        "print(\"Jumlah digit genap:\", sum_genap) # Output untuk jumlah angka ganjil\n",
        "print(\"Jumlah digit genap:\", sum_ganjil -3) # Output untuk jumlah angka genap"
      ],
      "metadata": {
        "colab": {
          "base_uri": "https://localhost:8080/"
        },
        "id": "uw_dE0eYr7NA",
        "outputId": "15456c63-5ca6-4d41-fad7-6dbb0e8f07ab"
      },
      "execution_count": null,
      "outputs": [
        {
          "output_type": "stream",
          "name": "stdout",
          "text": [
            "Masukkkan NPM Anda : 2420506012\n",
            "Jumlah digit genap: 10\n",
            "Jumlah digit genap: 2\n"
          ]
        }
      ]
    },
    {
      "cell_type": "markdown",
      "source": [
        "Hammmam Al Rosyid Mudhoffar"
      ],
      "metadata": {
        "id": "RYkXHuOuxjTk"
      }
    },
    {
      "cell_type": "code",
      "source": [
        "#Revisi kode\n",
        "num = input(\"Masukkkan NPM Anda : \") # Input NPM\n",
        "\n",
        "sum_genap = 0 # variable jumlah angka genap\n",
        "sum_ganjil = 0 # vairable jumlah angka ganjil\n",
        "\n",
        "for digit in num:\n",
        "  digit = int(digit)\n",
        "  if digit % 2 == 0:\n",
        "    sum_genap += 1\n",
        "  else:\n",
        "    sum_ganjil += 1\n",
        "\n",
        "print(\"Jumlah digit genap:\", sum_genap) # Output untuk jumlah angka ganjil\n",
        "print(\"Jumlah digit genap:\", sum_ganjil) # Output untuk jumlah angka genap"
      ],
      "metadata": {
        "colab": {
          "base_uri": "https://localhost:8080/"
        },
        "id": "91j7pWmyfHmh",
        "outputId": "3660c3fa-45b2-409d-d44e-7c9ff2db70d0"
      },
      "execution_count": null,
      "outputs": [
        {
          "output_type": "stream",
          "name": "stdout",
          "text": [
            "Masukkkan NPM Anda : \n",
            "Jumlah digit genap: 0\n",
            "Jumlah digit genap: 0\n"
          ]
        }
      ]
    }
  ]
}