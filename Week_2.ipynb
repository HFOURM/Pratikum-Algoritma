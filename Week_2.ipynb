{
  "nbformat": 4,
  "nbformat_minor": 0,
  "metadata": {
    "colab": {
      "provenance": [],
      "authorship_tag": "ABX9TyOJZUkfTGE9SH/rW5zdPM9/",
      "include_colab_link": true
    },
    "kernelspec": {
      "name": "python3",
      "display_name": "Python 3"
    },
    "language_info": {
      "name": "python"
    }
  },
  "cells": [
    {
      "cell_type": "markdown",
      "metadata": {
        "id": "view-in-github",
        "colab_type": "text"
      },
      "source": [
        "<a href=\"https://colab.research.google.com/github/HFOURM/Pratikum-Algoritma/blob/main/Week_2.ipynb\" target=\"_parent\"><img src=\"https://colab.research.google.com/assets/colab-badge.svg\" alt=\"Open In Colab\"/></a>"
      ]
    },
    {
      "cell_type": "markdown",
      "source": [
        "Weekly Exercise 1"
      ],
      "metadata": {
        "id": "IsAWZ_Efuq8y"
      }
    },
    {
      "cell_type": "code",
      "source": [
        "panjang = 20.5\n",
        "lebar = 25\n",
        "tinggi = 10\n",
        "\n",
        "keliling = 2*(panjang+lebar)\n",
        "luas = panjang*lebar\n",
        "volume = panjang*lebar*tinggi\n",
        "print(\"Panjang = \" , str(panjang))\n",
        "print(\"Lebar = \" , str(lebar))\n",
        "print(\"Tinggi = \" , str(tinggi))\n",
        "print(\"Keliling = \" , int(keliling))\n",
        "print(\"Volume = \" , int(volume))"
      ],
      "metadata": {
        "colab": {
          "base_uri": "https://localhost:8080/"
        },
        "id": "kA44BYczurRy",
        "outputId": "5442e1ce-57fe-4710-d812-d87256d55f2d"
      },
      "execution_count": null,
      "outputs": [
        {
          "output_type": "stream",
          "name": "stdout",
          "text": [
            "Panjang =  20.5\n",
            "Lebar =  25\n",
            "Tinggi =  10\n",
            "Keliling =  91\n",
            "Volume =  5125\n"
          ]
        }
      ]
    },
    {
      "cell_type": "markdown",
      "source": [
        "Weekly Exercise 2"
      ],
      "metadata": {
        "id": "0xqSUhU40GcD"
      }
    },
    {
      "cell_type": "code",
      "source": [
        "#Data mahasiswa\n",
        "data_mhs = {\n",
        "    'sk'  : 85 , 'sm'  : 75,\n",
        "    'amk' : 80 , 'amm' : 90,\n",
        "    'adk' : 75 , 'adm' : 80,\n",
        "    'nk'  : 95 , 'nm'  : 80,\n",
        "    'wk'  : 85 , 'wm'  : 85,\n",
        "    'hfk' : 75 , 'hfm' : 90,\n",
        "    'ank' : 70 , 'anm' : 75,\n",
        "    'dk'  : 85 , 'dm'  : 85,\n",
        "    'hk'  : 80 , 'hm'  : 75\n",
        "}\n",
        "#Keterangan untuk Variabel :\n",
        "#sk  = nilai Shafira Kalkulus 1 ; sm = nilai Shafira Metode Statistika ; amk = nilai Amanda Kalkulus 1 ; amm = nilai Amanda Metode Statistika\n",
        "#adk = nilai Aditya Kalkulus 1 ; adm = nilai Aditya Metode Statistika ; nk =  nilai Nedia Kalkulus 1 ; nm = nilai Nedia Metode Statistika\n",
        "#wk = nilai Widya Kalkulus 1 ; wm = nilai Widya Metode Statistika ; hfk = nilai Hanif Kalkulus 1 ; hfm = nilai Hanif Metode Statistika\n",
        "#ank = nilai Andi Kalkulus 1 anm = nilai Andi Metode Statistika; dk = nilai Dhanar Kalkulus 1; dm = nilai Dhanar Metode Statistika\n",
        "#hk = nilai Hikma Kalkulus 1; hm = nilai Hikma Metode Statistika\n",
        "\n",
        "\n",
        "#Jawaban no 1\n",
        "avgSha = (data_mhs['sk'] + data_mhs['sm']) / 2\n",
        "#Jawaban no 2\n",
        "sumHA = data_mhs['hfk'] + data_mhs['hfm'] + data_mhs['ank'] + data_mhs['anm']\n",
        "#Jawaban no 3\n",
        "avgkal1_3 = (data_mhs['wk'] + data_mhs['dk'] + data_mhs['hfk'] + data_mhs['nk']) / 4\n",
        "avgsta_3 = (data_mhs['wm'] + data_mhs['dm'] + data_mhs['hfm'] + data_mhs['nm']) / 4\n",
        "#Jawaban no 4\n",
        "avgkal1_4 = (data_mhs['sk'] + data_mhs['amk'] + data_mhs['adk'] + data_mhs['nk'] +\n",
        "             data_mhs['wk'] + data_mhs['hfk'] + data_mhs['ank'] + data_mhs['dk'] + data_mhs['hk']) / 9\n",
        "#Jawaban no 5\n",
        "avgsta_4 =  (data_mhs['sm'] + data_mhs['amm'] + data_mhs['adm'] + data_mhs['nm'] +\n",
        "             data_mhs['wm'] + data_mhs['hfm'] + data_mhs['anm'] + data_mhs['dm'] + data_mhs['hm']) / 9\n",
        "\n",
        "print(\"1.Rata-rata nilai Shafira pada Kedua mata kuliah adalah\" , avgSha)\n",
        "print(\"2.Jumlah nilai Hanif dan Andi untuk semua mata kuliah adalah\" , sumHA)\n",
        "print(\"3.Rata-rata nilai Widya, Dhanar, Hikma dan Nedia pada masing-masing mata kuliah adalah\" , avgkal1_3 ,\"Untuk Kalkulus dan\", avgsta_3 ,\"Untuk Statistika\")\n",
        "print(\"4.Rata-rata nilai mata kuliah Kalkulus 1 untuk semua mahasiswa\" , avgkal1_4)\n",
        "print(\"5.Rata-rata nilai mata kuliah Metode Statistika untuk semua mahasiswa\" , avgsta_4)"
      ],
      "metadata": {
        "colab": {
          "base_uri": "https://localhost:8080/"
        },
        "id": "KutbIcDH0KEj",
        "outputId": "3ec8802a-3d07-49e9-e539-ce7e98f296b4"
      },
      "execution_count": 55,
      "outputs": [
        {
          "output_type": "stream",
          "name": "stdout",
          "text": [
            "1.Rata-rata nilai Shafira pada Kedua mata kuliah adalah 80.0\n",
            "2.Jumlah nilai Hanif dan Andi untuk semua mata kuliah adalah 310\n",
            "3.Rata-rata nilai Widya, Dhanar, Hikma dan Nedia pada masing-masing mata kuliah adalah 85.0 Untuk Kalkulus dan 85.0 Untuk Statistika\n",
            "4.Rata-rata nilai mata kuliah Kalkulus 1 untuk semua mahasiswa 81.11111111111111\n",
            "5.Rata-rata nilai mata kuliah Metode Statistika untuk semua mahasiswa 81.66666666666667\n"
          ]
        }
      ]
    },
    {
      "cell_type": "markdown",
      "source": [
        "Weekly Exercise 3"
      ],
      "metadata": {
        "id": "lKVPHzf60dYL"
      }
    },
    {
      "cell_type": "code",
      "source": [
        "#data yang dimiliki\n",
        "jam_kerja_per_hari = 8\n",
        "upah_per_jam = 30000\n",
        "tunjangan_persen = 0.10\n",
        "upah_lembur_per_jam = 10000\n",
        "jumlah_hari_agustus = 31\n",
        "hari_tidak_masuk = 3\n",
        "jam_lembur = 5\n",
        "\n",
        "#total jam kerja\n",
        "hari_kerja = jumlah_hari_agustus - hari_tidak_masuk\n",
        "total_jam_kerja = hari_kerja * jam_kerja_per_hari\n",
        "\n",
        "#gaji bulanan\n",
        "gaji_bulanan = total_jam_kerja * upah_per_jam\n",
        "\n",
        "#tunjangan\n",
        "tunjangan = tunjangan_persen * gaji_bulanan\n",
        "\n",
        "#gaji lembur\n",
        "gaji_lembur = jam_lembur * upah_lembur_per_jam\n",
        "\n",
        "#total gaji bulan agustus denngan lembur\n",
        "gaji_total = gaji_bulanan + gaji_lembur\n",
        "\n",
        "#output\n",
        "print(\"Gaji pada bulan Agustus adalah Rp \" , gaji_bulanan)\n",
        "print(\"Tunjangan yang diterima adalah Rp \" , tunjangan)\n",
        "print(\"Gaji total bulan Agustus gaji dengan lembur adalah Rp\" , gaji_total)"
      ],
      "metadata": {
        "id": "UP6YzRIH0Ztj",
        "colab": {
          "base_uri": "https://localhost:8080/"
        },
        "outputId": "11f29883-c9b4-4d63-d9ba-40d4eed96d82"
      },
      "execution_count": 76,
      "outputs": [
        {
          "output_type": "stream",
          "name": "stdout",
          "text": [
            "Gaji pada bulan Agustus adalah Rp  6720000\n",
            "Tunjangan yang diterima adalah Rp  672000.0\n",
            "Gaji total bulan Agustus gaji dengan lembur adalah Rp 6770000\n"
          ]
        }
      ]
    }
  ]
}