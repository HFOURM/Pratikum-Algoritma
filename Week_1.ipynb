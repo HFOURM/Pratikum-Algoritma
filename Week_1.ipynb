{
  "nbformat": 4,
  "nbformat_minor": 0,
  "metadata": {
    "colab": {
      "provenance": [],
      "authorship_tag": "ABX9TyNgl5acmjAnifMUY4dVFAYq",
      "include_colab_link": true
    },
    "kernelspec": {
      "name": "python3",
      "display_name": "Python 3"
    },
    "language_info": {
      "name": "python"
    }
  },
  "cells": [
    {
      "cell_type": "markdown",
      "metadata": {
        "id": "view-in-github",
        "colab_type": "text"
      },
      "source": [
        "<a href=\"https://colab.research.google.com/github/HFOURM/Pratikum-Algoritma/blob/main/Week_1.ipynb\" target=\"_parent\"><img src=\"https://colab.research.google.com/assets/colab-badge.svg\" alt=\"Open In Colab\"/></a>"
      ]
    },
    {
      "cell_type": "markdown",
      "source": [
        "Say Hello To the world"
      ],
      "metadata": {
        "id": "7-Pu4wlRfkjI"
      }
    },
    {
      "cell_type": "code",
      "source": [
        "#Komentar\n",
        "print('Haloooo..., Dunia Phyton....')"
      ],
      "metadata": {
        "colab": {
          "base_uri": "https://localhost:8080/"
        },
        "id": "R1gP9etTfvXY",
        "outputId": "ca08a465-a24c-4f9b-dbe2-5b926f624848"
      },
      "execution_count": null,
      "outputs": [
        {
          "output_type": "stream",
          "name": "stdout",
          "text": [
            "Haloooo..., Dunia Phyton....\n"
          ]
        }
      ]
    },
    {
      "cell_type": "code",
      "source": [
        "#Try to display \"Teknologi informasi - Universitas Tidar\"\n",
        "print(\"\"Universitas Tidar\"\")"
      ],
      "metadata": {
        "colab": {
          "base_uri": "https://localhost:8080/",
          "height": 106
        },
        "id": "_BgM0yQDgbxa",
        "outputId": "5e0c41be-a75a-4265-9530-07de287b1ac4"
      },
      "execution_count": null,
      "outputs": [
        {
          "output_type": "error",
          "ename": "SyntaxError",
          "evalue": "invalid syntax. Perhaps you forgot a comma? (<ipython-input-3-b54e016f076b>, line 2)",
          "traceback": [
            "\u001b[0;36m  File \u001b[0;32m\"<ipython-input-3-b54e016f076b>\"\u001b[0;36m, line \u001b[0;32m2\u001b[0m\n\u001b[0;31m    print(\"\"Universitas Tidar\"\")\u001b[0m\n\u001b[0m          ^\u001b[0m\n\u001b[0;31mSyntaxError\u001b[0m\u001b[0;31m:\u001b[0m invalid syntax. Perhaps you forgot a comma?\n"
          ]
        }
      ]
    },
    {
      "cell_type": "markdown",
      "source": [
        "What version of Phyton are we using?"
      ],
      "metadata": {
        "id": "wxU36_Ash6dx"
      }
    },
    {
      "cell_type": "code",
      "source": [
        "# Check the Phyton Version\n",
        "\n",
        "import sys\n",
        "print(sys.version)"
      ],
      "metadata": {
        "colab": {
          "base_uri": "https://localhost:8080/"
        },
        "id": "d7eB2DAriiwS",
        "outputId": "1632ff1f-7812-4d58-ae14-842a675bd775"
      },
      "execution_count": null,
      "outputs": [
        {
          "output_type": "stream",
          "name": "stdout",
          "text": [
            "3.10.12 (main, Jul 29 2024, 16:56:48) [GCC 11.4.0]\n"
          ]
        }
      ]
    },
    {
      "cell_type": "markdown",
      "source": [
        "Writing comment in Python"
      ],
      "metadata": {
        "id": "QvOvdfrpizpB"
      }
    },
    {
      "cell_type": "code",
      "source": [
        "# Practice on Writing comments\n",
        "\n",
        "print ('Hello, Phyton!') # This line print a string\n",
        "print('Hi') #untuk print Hi"
      ],
      "metadata": {
        "colab": {
          "base_uri": "https://localhost:8080/"
        },
        "id": "5LiAZFrui3TK",
        "outputId": "c624f5f1-3815-43f1-8ef3-b28304533981"
      },
      "execution_count": null,
      "outputs": [
        {
          "output_type": "stream",
          "name": "stdout",
          "text": [
            "Hello, Phyton!\n",
            "Hi\n"
          ]
        }
      ]
    },
    {
      "cell_type": "markdown",
      "source": [
        "Errors in Pyhthon"
      ],
      "metadata": {
        "id": "bPH8djB0jLCh"
      }
    },
    {
      "cell_type": "markdown",
      "source": [
        "Weekly Exercise 1"
      ],
      "metadata": {
        "id": "S58nq-gejsFJ"
      }
    },
    {
      "cell_type": "code",
      "source": [
        "print(\"Nama         : Hammam Al Rosyid Mudhoffar\")\n",
        "print(\"\\nNPM          : 2420506018\")\n",
        "print(\"\\nAlamat       : Perum Gedongan Baru, Colomadu, Karanyanyar\")\n",
        "print(\"\\nTinggi Badan : 175\")\n",
        "print(\"\\nBerat Badan  : 79\")"
      ],
      "metadata": {
        "colab": {
          "base_uri": "https://localhost:8080/"
        },
        "id": "TjFSCDeljyhx",
        "outputId": "b516536b-367e-42e0-ec74-6ef930a155c5"
      },
      "execution_count": 1,
      "outputs": [
        {
          "output_type": "stream",
          "name": "stdout",
          "text": [
            "Nama         : Hammam Al Rosyid Mudhoffar\n",
            "\n",
            "NPM          : 2420506018\n",
            "\n",
            "Alamat       : Perum Gedongan Baru, Colomadu, Karanyanyar\n",
            "\n",
            "Tinggi Badan : 175\n",
            "\n",
            "Berat Badan  : 79\n"
          ]
        }
      ]
    },
    {
      "cell_type": "markdown",
      "source": [
        "Weekly Exercise 2"
      ],
      "metadata": {
        "id": "GwwiTc9XlWxx"
      }
    },
    {
      "cell_type": "code",
      "source": [
        "print('\\033[1mUNIVERSITAS TIDAR\\033[0m')\n",
        "print(\"Universitas Tidar merupakan Perguruan Tinggi Pemerintah atau Perguruan Tinggi Negeri yang telah di tetapkan berdasarkan Peraturan Presiden Indonesia Nomor 23 Tahun 2014 pada tangggal 1 April 2024.\")\n",
        "print(\"\\n\\033[1mJURUSAN TEKNIK ELEKTRO\\033[0m\")\n",
        "print(\"Jurusan Teknik Elektro terdiri atas prodi, antara lain:\")\n",
        "print(\"    1. S1 Teknik Elektro \\x1B[3m(\\x1B[3mBachelor of Electrical Engineering)\\x1B[0m\")\n",
        "print(\"    2. S1 Teknologi Informasi \\x1B[3m(Bachelor of Information Technology)\\x1B[0m\")\n",
        "print(\"    3. S1 Teknik Mekatronika \\x1B[3m(Bachelor of Mechatronics Engineering)\\x1B[0m\")\n",
        "\n"
      ],
      "metadata": {
        "colab": {
          "base_uri": "https://localhost:8080/"
        },
        "id": "TyPEb-A8lcxq",
        "outputId": "08a96ab6-20d1-4b15-9d0b-f8c1d31ba15f"
      },
      "execution_count": null,
      "outputs": [
        {
          "output_type": "stream",
          "name": "stdout",
          "text": [
            "\u001b[1mUNIVERSITAS TIDAR\u001b[0m\n",
            "Universitas Tidar merupakan Perguruan Tinggi Pemerintah atau Perguruan Tinggi Negeri yang telah di tetapkan berdasarkan Peraturan Presiden Indonesia Nomor 23 Tahun 2014 pada tangggal 1 April 2024.\n",
            "\n",
            "\u001b[1mJURUSAN TEKNIK ELEKTRO\u001b[0m\n",
            "Jurusan Teknik Elektro terdiri atas prodi, antara lain:\n",
            "    1. S1 Teknik Elektro \u001b[3m(\u001b[3mBachelor of Electrical Engineering)\u001b[0m\n",
            "    2. S1 Teknologi Informasi \u001b[3m(Bachelor of Information Technology)\u001b[0m\n",
            "    3. S1 Teknik Mekatronika \u001b[3m(Bachelor of Mechatronics Engineering)\u001b[0m\n"
          ]
        }
      ]
    }
  ]
}