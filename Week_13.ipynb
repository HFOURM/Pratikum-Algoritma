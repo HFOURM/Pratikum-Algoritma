{
  "nbformat": 4,
  "nbformat_minor": 0,
  "metadata": {
    "colab": {
      "provenance": [],
      "authorship_tag": "ABX9TyMjMNQt9ZyE1XBSYJpx+GZn",
      "include_colab_link": true
    },
    "kernelspec": {
      "name": "python3",
      "display_name": "Python 3"
    },
    "language_info": {
      "name": "python"
    }
  },
  "cells": [
    {
      "cell_type": "markdown",
      "metadata": {
        "id": "view-in-github",
        "colab_type": "text"
      },
      "source": [
        "<a href=\"https://colab.research.google.com/github/HFOURM/Pratikum-Algoritma/blob/main/Week_13.ipynb\" target=\"_parent\"><img src=\"https://colab.research.google.com/assets/colab-badge.svg\" alt=\"Open In Colab\"/></a>"
      ]
    },
    {
      "cell_type": "markdown",
      "source": [
        "Weekly Exercise 1"
      ],
      "metadata": {
        "id": "HI2g3BQyFZ8z"
      }
    },
    {
      "cell_type": "code",
      "execution_count": 9,
      "metadata": {
        "id": "0sif9W9mFVU7",
        "colab": {
          "base_uri": "https://localhost:8080/"
        },
        "outputId": "89f0f2ec-b2e1-4665-fad5-542d5aa64467"
      },
      "outputs": [
        {
          "output_type": "stream",
          "name": "stdout",
          "text": [
            "\n",
            "Nama: bolpoin\n",
            "Stok: 10\n",
            "Harga Satuan: Rp.2000\n",
            "Harga Total: Rp.20000\n",
            "\n",
            "Nama: pensil\n",
            "Stok: 10\n",
            "Harga Satuan: Rp.1000\n",
            "Harga Total: Rp.10000\n",
            "\n",
            "Nama: Penghapus\n",
            "Stok: 10\n",
            "Harga Satuan: Rp.500\n",
            "Harga Total: Rp.5000\n",
            "\n",
            "Total harga transaksi: Rp.35000\n"
          ]
        }
      ],
      "source": [
        "class AlatTulis:\n",
        "    def __init__(self,nama,stok,harga_satuan):\n",
        "        self.__nama = nama\n",
        "        self.__stok = stok\n",
        "        self.__harga_satuan = harga_satuan\n",
        "        self.__harga = stok * harga_satuan\n",
        "\n",
        "    def set_nama(self,nama):\n",
        "        self._nama = nama\n",
        "\n",
        "    def get_nama(self):\n",
        "        return self.__nama\n",
        "\n",
        "    def set_stok(self,stok):\n",
        "        self.__stok = stok\n",
        "        self.__harga = self.__stok * self.__harga_satuan\n",
        "\n",
        "    def get__stok(self):\n",
        "        return self.__stok\n",
        "\n",
        "    def set_harga_satuan(self, harga_satuan):\n",
        "        self.__harga_satuan = harga_satuan\n",
        "        self.__harga = self.__stok * self.__harga_satuan\n",
        "\n",
        "    def get_harga_satuan(self):\n",
        "        return self.__harga_satuan\n",
        "\n",
        "    def get_harga(self):\n",
        "        return self.__harga\n",
        "\n",
        "    def informasi(self):\n",
        "        print(f\"\\nNama: {self.__nama}\")\n",
        "        print(f\"Stok: {self.__stok}\")\n",
        "        print(f\"Harga Satuan: Rp.{self.__harga_satuan}\")\n",
        "        print(f\"Harga Total: Rp.{self.__harga}\")\n",
        "\n",
        "class Penjualan:\n",
        "    def __init__(self):\n",
        "        self.__total_harga = 0\n",
        "\n",
        "    def tambah_alat_tulis(self, alat_tulis):\n",
        "        self.__total_harga += alat_tulis.get_harga()\n",
        "\n",
        "    def get_total_harga(self):\n",
        "        return self.__total_harga\n",
        "\n",
        "b = AlatTulis(\"bolpoin\", 10, 2000)\n",
        "p = AlatTulis(\"pensil\", 10, 1000)\n",
        "pg = AlatTulis(\"Penghapus\", 10, 500)\n",
        "\n",
        "b.informasi()\n",
        "p.informasi()\n",
        "pg.informasi()\n",
        "\n",
        "transaksi = Penjualan()\n",
        "\n",
        "transaksi.tambah_alat_tulis(b)\n",
        "transaksi.tambah_alat_tulis(p)\n",
        "transaksi.tambah_alat_tulis(pg)\n",
        "\n",
        "print(f\"\\nTotal harga transaksi: Rp.{transaksi.get_total_harga()}\")"
      ]
    }
  ]
}