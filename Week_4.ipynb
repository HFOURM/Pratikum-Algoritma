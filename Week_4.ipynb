{
  "nbformat": 4,
  "nbformat_minor": 0,
  "metadata": {
    "colab": {
      "provenance": [],
      "authorship_tag": "ABX9TyPzPon4JpBKB2qzpjstYIud",
      "include_colab_link": true
    },
    "kernelspec": {
      "name": "python3",
      "display_name": "Python 3"
    },
    "language_info": {
      "name": "python"
    }
  },
  "cells": [
    {
      "cell_type": "markdown",
      "metadata": {
        "id": "view-in-github",
        "colab_type": "text"
      },
      "source": [
        "<a href=\"https://colab.research.google.com/github/HFOURM/Pratikum-Algoritma/blob/main/Week_4.ipynb\" target=\"_parent\"><img src=\"https://colab.research.google.com/assets/colab-badge.svg\" alt=\"Open In Colab\"/></a>"
      ]
    },
    {
      "cell_type": "markdown",
      "source": [
        "Comparation Operators"
      ],
      "metadata": {
        "id": "nMzu22B4h8q5"
      }
    },
    {
      "cell_type": "code",
      "source": [
        "#Condition Equal\n",
        "\n",
        "a = 6\n",
        "a == 5"
      ],
      "metadata": {
        "colab": {
          "base_uri": "https://localhost:8080/"
        },
        "id": "dJVmcD3th9Co",
        "outputId": "c7400a50-57e5-41e2-be6b-f8827d54a708"
      },
      "execution_count": 1,
      "outputs": [
        {
          "output_type": "execute_result",
          "data": {
            "text/plain": [
              "False"
            ]
          },
          "metadata": {},
          "execution_count": 1
        }
      ]
    },
    {
      "cell_type": "code",
      "source": [
        "#Greader Then Sign\n",
        "\n",
        "i = 6\n",
        "i > 5"
      ],
      "metadata": {
        "colab": {
          "base_uri": "https://localhost:8080/"
        },
        "id": "oo8PhBeNjKXR",
        "outputId": "ba795f10-85a6-459b-fcf3-5e7834924b70"
      },
      "execution_count": 3,
      "outputs": [
        {
          "output_type": "execute_result",
          "data": {
            "text/plain": [
              "True"
            ]
          },
          "metadata": {},
          "execution_count": 3
        }
      ]
    },
    {
      "cell_type": "code",
      "source": [
        "#Greader Then Sign\n",
        "\n",
        "i = 2\n",
        "i > 5"
      ],
      "metadata": {
        "colab": {
          "base_uri": "https://localhost:8080/"
        },
        "id": "wc6YLJgsjKcR",
        "outputId": "223549e8-6b1d-4a9b-d235-15834e7eaf33"
      },
      "execution_count": 4,
      "outputs": [
        {
          "output_type": "execute_result",
          "data": {
            "text/plain": [
              "False"
            ]
          },
          "metadata": {},
          "execution_count": 4
        }
      ]
    },
    {
      "cell_type": "code",
      "source": [
        "#Inequality Sign\n",
        "\n",
        "i = 2\n",
        "i != 6"
      ],
      "metadata": {
        "colab": {
          "base_uri": "https://localhost:8080/"
        },
        "id": "MtWPv4bDj8aJ",
        "outputId": "79a1dbbd-2be4-43c5-dacd-84ef8605ac3f"
      },
      "execution_count": 5,
      "outputs": [
        {
          "output_type": "execute_result",
          "data": {
            "text/plain": [
              "True"
            ]
          },
          "metadata": {},
          "execution_count": 5
        }
      ]
    },
    {
      "cell_type": "code",
      "source": [
        "#Inequality Sign\n",
        "\n",
        "i = 6\n",
        "i != 6"
      ],
      "metadata": {
        "colab": {
          "base_uri": "https://localhost:8080/"
        },
        "id": "OkvAtkzJkde6",
        "outputId": "ba794293-cae1-4122-8ad3-cd47ff47065e"
      },
      "execution_count": 7,
      "outputs": [
        {
          "output_type": "execute_result",
          "data": {
            "text/plain": [
              "False"
            ]
          },
          "metadata": {},
          "execution_count": 7
        }
      ]
    },
    {
      "cell_type": "code",
      "source": [
        "# Use Equality sign to compare the strings\n",
        "\n",
        "\"ACDC\" == \"Michael Jackson\""
      ],
      "metadata": {
        "colab": {
          "base_uri": "https://localhost:8080/"
        },
        "id": "lbmk8NFikpZT",
        "outputId": "7e0604df-a759-43d4-b2ec-901fedd4863b"
      },
      "execution_count": 8,
      "outputs": [
        {
          "output_type": "execute_result",
          "data": {
            "text/plain": [
              "False"
            ]
          },
          "metadata": {},
          "execution_count": 8
        }
      ]
    },
    {
      "cell_type": "code",
      "source": [
        "# Use Inequality sign to compare the strings\n",
        "\n",
        "\"ACDC\" != \"Michael Jackson\""
      ],
      "metadata": {
        "colab": {
          "base_uri": "https://localhost:8080/"
        },
        "id": "CA5j9q50lCup",
        "outputId": "883918a8-e399-465a-9288-8c748b3f469d"
      },
      "execution_count": 9,
      "outputs": [
        {
          "output_type": "execute_result",
          "data": {
            "text/plain": [
              "True"
            ]
          },
          "metadata": {},
          "execution_count": 9
        }
      ]
    },
    {
      "cell_type": "markdown",
      "source": [
        "Branching"
      ],
      "metadata": {
        "id": "q9e121C7p2Gr"
      }
    },
    {
      "cell_type": "code",
      "source": [
        "# If statememt example\n",
        "age = 18\n",
        "\n",
        "#expression that can be true or false\n",
        "if(age > 18):\n",
        "  #within an indent, we have expression that is run if the condition\n",
        "  print(\"you can enter\")\n",
        "\n",
        "  print(\"move on\")"
      ],
      "metadata": {
        "id": "CTGO1di0p5yb"
      },
      "execution_count": null,
      "outputs": []
    },
    {
      "cell_type": "markdown",
      "source": [
        "Quiz on Condition"
      ],
      "metadata": {
        "id": "Q3xAGTL-ts5c"
      }
    },
    {
      "cell_type": "markdown",
      "source": [
        "Write an if statement to determine if an album had a rating greater than 8. Test it using the rating for the album **“Back in Black”** that had a rating of 8.5. If the statement is true print \"This album is Amazing!\""
      ],
      "metadata": {
        "id": "euv171ort9Gc"
      }
    },
    {
      "cell_type": "code",
      "source": [
        "rating = 8.5\n",
        "\n",
        "if(rating > 8):\n",
        "  print(\"This Album Amazing\")"
      ],
      "metadata": {
        "colab": {
          "base_uri": "https://localhost:8080/"
        },
        "id": "njVVxzKFuRJk",
        "outputId": "f7483641-3d64-44fd-9575-978796a0f0fb"
      },
      "execution_count": 16,
      "outputs": [
        {
          "output_type": "stream",
          "name": "stdout",
          "text": [
            "This Album Amazing\n"
          ]
        }
      ]
    },
    {
      "cell_type": "markdown",
      "source": [
        "Write an if-else statement that performs the following. If the rating is larger then eight print “this album is amazing”. If the rating is less than or equal to 8 print “this album is ok”."
      ],
      "metadata": {
        "id": "M287f3kfuycP"
      }
    },
    {
      "cell_type": "code",
      "source": [
        "rating = 8.5\n",
        "\n",
        "if(rating > 8):\n",
        "  print(\"This Album Amazing\")\n",
        "else:\n",
        "  print(\"This Album is ok\")"
      ],
      "metadata": {
        "colab": {
          "base_uri": "https://localhost:8080/"
        },
        "id": "puChqQ6Xuym_",
        "outputId": "5b81009d-1d74-476a-eec0-585d85d91782"
      },
      "execution_count": 12,
      "outputs": [
        {
          "output_type": "stream",
          "name": "stdout",
          "text": [
            "This Album Amazing\n"
          ]
        }
      ]
    },
    {
      "cell_type": "markdown",
      "source": [
        "Write an if statement to determine if an album came out before 1980 or in the years: 1991 or 1993. If the condition is true print out the year the album came out."
      ],
      "metadata": {
        "id": "51Y_AhiXu49F"
      }
    },
    {
      "cell_type": "code",
      "source": [
        "album_year = 1979\n",
        "\n",
        "if(album_year < 1980) or (album_year == 1991) or (album_year == 1993):\n",
        "  print(\"This album came out already\")"
      ],
      "metadata": {
        "colab": {
          "base_uri": "https://localhost:8080/"
        },
        "id": "XpWagLqMu5PV",
        "outputId": "af11c243-954a-4ba2-958e-a5193e482470"
      },
      "execution_count": 13,
      "outputs": [
        {
          "output_type": "stream",
          "name": "stdout",
          "text": [
            "This album came out already\n"
          ]
        }
      ]
    },
    {
      "cell_type": "markdown",
      "source": [
        "Weekly Exercise 1"
      ],
      "metadata": {
        "id": "39JMDsUGlkT0"
      }
    },
    {
      "cell_type": "code",
      "source": [
        "# Kode IF ELSE\n",
        "umur = int(input('Input nilai: '))\n",
        "\n",
        "if(umur >= 17):\n",
        "  print('Boleh membuat SIM')\n",
        "else:\n",
        "  print('Tidak boleh membuat SIM')"
      ],
      "metadata": {
        "colab": {
          "base_uri": "https://localhost:8080/"
        },
        "id": "AApWvztVm1t7",
        "outputId": "36fb7dc4-6b6f-4084-9f5f-da2fd2a8706d"
      },
      "execution_count": 7,
      "outputs": [
        {
          "output_type": "stream",
          "name": "stdout",
          "text": [
            "Input nilai: 14\n",
            "Tidak boleh membuat SIM\n"
          ]
        }
      ]
    },
    {
      "cell_type": "markdown",
      "source": [
        "Weekly Exercise 2"
      ],
      "metadata": {
        "id": "0_Sxql1_lpYp"
      }
    },
    {
      "cell_type": "code",
      "source": [
        "# Kode IF ELSEIF ELSE\n",
        "nilai = int(input('Input nilai: '))\n",
        "\n",
        "if(nilai >= 90):\n",
        "  print('A')\n",
        "elif(nilai >= 80):\n",
        "  print('B+')\n",
        "elif(nilai >= 70):\n",
        "  print('B')\n",
        "elif(nilai >= 60):\n",
        "  print('C+')\n",
        "elif(nilai >= 50):\n",
        "  print('C')\n",
        "elif(nilai >=40):\n",
        "  print('D')\n",
        "else:\n",
        "  print('E')\n"
      ],
      "metadata": {
        "colab": {
          "base_uri": "https://localhost:8080/"
        },
        "id": "CjCz_yJ4lpg6",
        "outputId": "1513fcc6-7a2e-4187-d8ee-5a695469bdbb"
      },
      "execution_count": 6,
      "outputs": [
        {
          "output_type": "stream",
          "name": "stdout",
          "text": [
            "Input nilai: 20\n",
            "E\n"
          ]
        }
      ]
    },
    {
      "cell_type": "markdown",
      "source": [
        "Weekly Exercise 3"
      ],
      "metadata": {
        "id": "XGrJ0mwylt8Z"
      }
    },
    {
      "cell_type": "code",
      "source": [
        "# Kode IF ELSEIF ELSE\n",
        "nilai = float(input('Input nilai: '))\n",
        "\n",
        "if(nilai >= 80.00) and (nilai <= 100):\n",
        "  print('A')\n",
        "elif(nilai >= 77.50) and (nilai <= 79.99):\n",
        "  print('A-')\n",
        "elif(nilai >= 75.00) and (nilai <= 77.49):\n",
        "  print('A/B')\n",
        "elif(nilai >= 72.50) and (nilai <= 74.99):\n",
        "  print('B+')\n",
        "elif(nilai >= 70.00) and (nilai <= 72.49):\n",
        "  print('B-')\n",
        "elif(nilai >= 67.50) and (nilai <= 69.99):\n",
        "  print('B/C')\n",
        "elif(nilai >= 65.00) and (nilai <= 67.49):\n",
        "  print('C+')\n",
        "elif(nilai >= 62.50) and (nilai <= 64.99):\n",
        "  print('C-')\n",
        "elif(nilai >= 60.00) and (nilai <= 62.49):\n",
        "  print('C/D')\n",
        "elif(nilai >= 55.00) and (nilai <= 59.99):\n",
        "  print('D+')\n",
        "elif(nilai >= 50.00) and (nilai <= 54.99):\n",
        "  print('D')\n",
        "elif(nilai >= 40.00) and (nilai <= 49.99):\n",
        "  print('E')\n",
        "else:\n",
        "  print('F')"
      ],
      "metadata": {
        "colab": {
          "base_uri": "https://localhost:8080/"
        },
        "outputId": "3fc7a7de-920e-441d-fe43-cf377b655742",
        "id": "2_YJ86SMrkrE"
      },
      "execution_count": 11,
      "outputs": [
        {
          "output_type": "stream",
          "name": "stdout",
          "text": [
            "Input nilai: 77.49\n",
            "A/B\n"
          ]
        }
      ]
    }
  ]
}