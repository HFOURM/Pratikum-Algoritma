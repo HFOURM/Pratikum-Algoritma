{
  "nbformat": 4,
  "nbformat_minor": 0,
  "metadata": {
    "colab": {
      "provenance": [],
      "mount_file_id": "1sXa_FbhIerrDxkocxl7QP40virBVdTAZ",
      "authorship_tag": "ABX9TyPS7h7SOpLbtnhLc339plwC",
      "include_colab_link": true
    },
    "kernelspec": {
      "name": "python3",
      "display_name": "Python 3"
    },
    "language_info": {
      "name": "python"
    }
  },
  "cells": [
    {
      "cell_type": "markdown",
      "metadata": {
        "id": "view-in-github",
        "colab_type": "text"
      },
      "source": [
        "<a href=\"https://colab.research.google.com/github/HFOURM/Pratikum-Algoritma/blob/main/Week_12.ipynb\" target=\"_parent\"><img src=\"https://colab.research.google.com/assets/colab-badge.svg\" alt=\"Open In Colab\"/></a>"
      ]
    },
    {
      "cell_type": "markdown",
      "source": [
        "Weekly Exercise 1"
      ],
      "metadata": {
        "id": "GRB8PUQL9VkN"
      }
    },
    {
      "cell_type": "code",
      "source": [
        "import matematika\n",
        "\n",
        "# Cek angka\n",
        "def cek_angka(input_str):\n",
        "    try:\n",
        "        return float(input_str)  # mengubah ke float jika benar\n",
        "    except ValueError:\n",
        "        raise ValueError(\"Hanya boleh memasukkan angka.\")\n",
        "\n",
        "# Luas Lingkaran\n",
        "r = input(\"Masukkan jari-jari: \")\n",
        "try:\n",
        "    if not r.strip():  # Cek jika kosong\n",
        "        raise ValueError(\"Tidak boleh kosong\")\n",
        "    r = cek_angka(r)  # Validasi angka\n",
        "    L_lingkaran = matematika.L_lingkaran(r)\n",
        "    print(f\"Luas lingkaran adalah {L_lingkaran}\")\n",
        "except ValueError as e:\n",
        "    print(f\"Error: {e}\")\n",
        "\n",
        "# Luas Persegi\n",
        "s = input(\"Masukkan sisi persegi: \")\n",
        "try:\n",
        "    if not s.strip():\n",
        "        raise ValueError(\"Tidak boleh kosong\")\n",
        "    s = cek_angka(s)\n",
        "    L_persegi = matematika.L_persegi(s)\n",
        "    print(f\"Luas persegi adalah {L_persegi}\")\n",
        "except ValueError as e:\n",
        "    print(f\"Error: {e}\")\n",
        "\n",
        "# Luas Persegi Panjang\n",
        "p = input(\"Masukkan panjang: \")\n",
        "l = input(\"Masukkan lebar: \")\n",
        "try:\n",
        "    if not p.strip() or not l.strip():\n",
        "        raise ValueError(\"Tidak boleh kosong\")\n",
        "    p = cek_angka(p)\n",
        "    l = cek_angka(l)\n",
        "    L_persegipanjang = matematika.L_persegipanjang(p, l)\n",
        "    print(f\"Luas persegi panjang adalah {L_persegipanjang}\")\n",
        "except ValueError as e:\n",
        "    print(f\"Error: {e}\")"
      ],
      "metadata": {
        "colab": {
          "base_uri": "https://localhost:8080/"
        },
        "id": "UM5dxkmhOvR8",
        "outputId": "988c7627-3ee4-4ec0-9452-9fb8cbcc7a90"
      },
      "execution_count": 3,
      "outputs": [
        {
          "output_type": "stream",
          "name": "stdout",
          "text": [
            "Masukkan jari-jari: 1\n",
            "Luas lingkaran adalah 3.14\n",
            "Masukkan sisi persegi: d\n",
            "Error: Hanya boleh memasukkan angka.\n",
            "Masukkan panjang: \n",
            "Masukkan lebar: 2\n",
            "Error: Tidak boleh kosong.\n"
          ]
        }
      ]
    },
    {
      "cell_type": "markdown",
      "source": [
        "Weekly Exercise 2"
      ],
      "metadata": {
        "id": "XvkTU_rL9c91"
      }
    },
    {
      "cell_type": "code",
      "source": [
        "num = input(\"Masukkan NPM Anda : \")\n",
        "\n",
        "try:\n",
        "    if not num.strip():\n",
        "        raise ValueError(\"NPM tidak boleh kosong\")\n",
        "    elif not num.isdigit():\n",
        "        raise ValueError(\"NPM harus berupa angka\")\n",
        "    elif len(num) != 10:\n",
        "        raise ValueError(\"NPM harus terdiri dari 10 angka\")\n",
        "    else:\n",
        "        sum_genap = 0\n",
        "        sum_ganjil = 0\n",
        "\n",
        "    for digit in num:\n",
        "        digit = int(digit)\n",
        "        if digit % 2 == 0:\n",
        "            sum_genap += 1\n",
        "        else:\n",
        "            sum_ganjil += 1\n",
        "\n",
        "    print(\"Jumlah digit genap:\", sum_genap)\n",
        "    print(\"Jumlah digit ganjil:\", sum_ganjil)\n",
        "except ValueError as e:\n",
        "  print(f\"Error : {e}\")"
      ],
      "metadata": {
        "id": "2TBIBN9H9dFE",
        "colab": {
          "base_uri": "https://localhost:8080/"
        },
        "outputId": "7bc72f79-e7cf-473d-e471-7f14a11c373f"
      },
      "execution_count": null,
      "outputs": [
        {
          "output_type": "stream",
          "name": "stdout",
          "text": [
            "Masukkan NPM Anda : \n",
            "Error : NPM tidak boleh kosong\n"
          ]
        }
      ]
    }
  ]
}
